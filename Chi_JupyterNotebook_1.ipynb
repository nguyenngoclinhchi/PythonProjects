{
 "cells": [
  {
   "cell_type": "code",
   "execution_count": 1,
   "metadata": {},
   "outputs": [
    {
     "name": "stdout",
     "output_type": "stream",
     "text": [
      "-46.7372967804726 \n",
      "\n",
      "-28.6439740817813 \n",
      "\n",
      "11.2946561703986 \n",
      "\n",
      "26.6767276689346 \n",
      "\n",
      "0 \n",
      "\n",
      "0 \n",
      "\n",
      "-1.79441363451707e-05 \n",
      "\n",
      "7.27262179975238e-05 \n",
      "\n",
      "-0.170178601353069 \n",
      "\n",
      "133.046655261041 \n",
      "\n",
      "0.578800208921093 \n",
      "\n",
      "-1.45629206819037 \n",
      "\n",
      "0.00193193314783178 \n",
      "\n",
      "-0.263536911477869 \n",
      "\n",
      "6.49155662434054 \n",
      "\n",
      "0 \n",
      "\n",
      "0 \n",
      "\n"
     ]
    }
   ],
   "source": [
    "data = '-46.7372967804726 -28.6439740817813 11.2946561703986 26.6767276689346 0 0 -1.79441363451707e-05 7.27262179975238e-05 -0.170178601353069 133.046655261041 0.578800208921093 -1.45629206819037 0.00193193314783178 -0.263536911477869 6.49155662434054 0 0'\n",
    "temp = data.split()\n",
    "for i in temp:\n",
    "    print(i, '\\n')\n"
   ]
  },
  {
   "cell_type": "code",
   "execution_count": null,
   "metadata": {},
   "outputs": [],
   "source": []
  }
 ],
 "metadata": {
  "kernelspec": {
   "display_name": "Python 3",
   "language": "python",
   "name": "python3"
  },
  "language_info": {
   "codemirror_mode": {
    "name": "ipython",
    "version": 3
   },
   "file_extension": ".py",
   "mimetype": "text/x-python",
   "name": "python",
   "nbconvert_exporter": "python",
   "pygments_lexer": "ipython3",
   "version": "3.7.3"
  },
  "pycharm": {
   "stem_cell": {
    "cell_type": "raw",
    "metadata": {
     "collapsed": false
    },
    "source": []
   }
  }
 },
 "nbformat": 4,
 "nbformat_minor": 2
}
